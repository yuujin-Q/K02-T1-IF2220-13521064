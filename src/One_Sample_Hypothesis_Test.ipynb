{
 "cells": [
  {
   "cell_type": "code",
   "execution_count": 1,
   "metadata": {},
   "outputs": [],
   "source": [
    "# Import Libraries\n",
    "import pandas as pd\n",
    "import scipy.stats as s\n",
    "from statsmodels.stats.weightstats import ztest\n",
    "from statsmodels.stats.proportion import proportions_ztest\n",
    "\n",
    "# Read csv file\n",
    "df = pd.read_csv(\"../data/anggur.csv\")"
   ]
  },
  {
   "attachments": {},
   "cell_type": "markdown",
   "metadata": {},
   "source": [
    "## Q1: Nilai rata-rata pH di atas 3.29?\n",
    "\n",
    "Langkah-langkah:\n",
    "1. $\\mathrm{H_0}: \\mu$ = 3.29\n",
    "2. $\\mathrm{H_1}: \\mu$ > 3.29\n",
    "3. Significance Level : $\\alpha$ = 0.05\n",
    "4. Uji Statistik: One-Tailed Test\n",
    "\n",
    "    Daerah Kritis: 1 - $\\alpha$ = 0.95 dan P(z < 1.645) = 0.95 sehingga daerah kritisnya adalah z > 1.645.  \n",
    "\n",
    "    Perhitungannya juga ada di kode di bawah ini.\n",
    "5. Test Statistik: $$z = \\frac{\\bar{x} - \\mu_0}{\\sigma/\\sqrt{n}}$$\n",
    "\n",
    "    Perhitungan z dan p-value ada pada kode di bawah ini.\n",
    "6. Tolak $\\mathrm{H_0}$ jika nilai uji terletak di daerah kritis atau dengan dengan tes signifikan $(z > z_\\alpha)$ atau tolak $\\mathrm{H_0}$ jika p-value lebih kecil dibandingkan tingkat signifikansi $\\alpha$ yang diinginkan. Jika di luar kondisi tersebut, terima $\\mathrm{H_0}$.\n",
    "    \n",
    "    Pengambilan keputusan tersebut ada pada kode di bawah ini."
   ]
  },
  {
   "cell_type": "code",
   "execution_count": 2,
   "metadata": {},
   "outputs": [
    {
     "name": "stdout",
     "output_type": "stream",
     "text": [
      "z = 34.25646847422586\n",
      "z-alpha = 1.6448536269514722\n",
      "Nilai z lebih besar dari z-alpha sehingga nilai uji terletak di daerah kritis.\n",
      "Keputusan dari uji ini adalah tolak H0.\n",
      "\n",
      "p = 1.7469797787149574e-257\n",
      "Nilai p lebih kecil dari tingkat signifikansi yang diinginkan\n",
      "Keputusan dari uji ini adalah tolak H0\n"
     ]
    }
   ],
   "source": [
    "df_pH = df[\"pH\"]\n",
    "\n",
    "# Significance Level\n",
    "alpha = 0.05\n",
    "\n",
    "# z value and p value\n",
    "z_val_pH, p_val_pH = ztest(df_pH, value = 3.19)\n",
    "print(\"z =\", z_val_pH)\n",
    "\n",
    "# z-alpha value\n",
    "z_alpha_val_pH = s.norm.ppf(1 - alpha)\n",
    "print(\"z-alpha =\", z_alpha_val_pH)\n",
    "\n",
    "# Pengambilan Keputusan\n",
    "if (z_val_pH > z_alpha_val_pH):\n",
    "    print(\"Nilai z lebih besar dari z-alpha sehingga nilai uji terletak di daerah kritis.\")\n",
    "    print(\"Keputusan dari uji ini adalah tolak H0.\\n\")\n",
    "else:\n",
    "    print(\"Nilai z tidak lebih besar dari z-alpha sehingga nilai uji tidak terletak di daerah kritis.\")\n",
    "    print(\"Keputusan dari uji ini adalah terima H0.\\n\")\n",
    "\n",
    "# p value\n",
    "p_val_pH = s.norm.sf(z_val_pH)\n",
    "print(\"p =\", p_val_pH)\n",
    "\n",
    "# Pengambilan Keputusan\n",
    "if (p_val_pH < alpha):\n",
    "    print(\"Nilai p lebih kecil dari tingkat signifikansi yang diinginkan\")\n",
    "    print(\"Keputusan dari uji ini adalah tolak H0\")\n",
    "else:\n",
    "    print(\"Nilai p tidak lebih kecil dari tingkat signifikansi yang diinginkan\")\n",
    "    print(\"Keputusan dari uji ini adalah terima H0\")"
   ]
  },
  {
   "attachments": {},
   "cell_type": "markdown",
   "metadata": {},
   "source": [
    "Kesimpulan: \n",
    "\n",
    "Nilai rata-rata pH di atas 3.29."
   ]
  },
  {
   "attachments": {},
   "cell_type": "markdown",
   "metadata": {},
   "source": [
    "## Q2: Nilai rata-rata Residual Sugar tidak sama dengan 2.50?\n",
    "Langkah-langkah:\n",
    "1. $\\mathrm{H_0}: \\mu$ = 2.50\n",
    "2. $\\mathrm{H_1}: \\mu$ $\\neq$ 2.50\n",
    "3. Significance Level : $\\alpha$ = 0.05\n",
    "4. Uji Statistik: Two-Tailed Test\n",
    "\n",
    "    Daerah Kritis: z > $z_{\\alpha/2}$ atau z < -$z_{\\alpha/2}$\n",
    "\n",
    "    Perhitungannya juga ada di kode di bawah ini.\n",
    "5. Test Statistik: $$z = \\frac{\\bar{x} - \\mu_0}{\\sigma/\\sqrt{n}}$$ Perhitungan z-value dan p-value ada pada kode di bawah ini.\n",
    "6. Tolak $\\mathrm{H_0}$ jika $(z > z_{\\alpha/2}$ atau $z < -z_{\\alpha/2})$ atau tolak $\\mathrm{H_0}$ jika p-value lebih kecil dibandingkan tingkat signifikansi $\\alpha$ yang diinginkan. Jika di luar kondisi tersebut, terima $\\mathrm{H_0}$.\n",
    "\n",
    "    Pengambilan keputusan tersebut ada pada kode di bawah ini."
   ]
  },
  {
   "cell_type": "code",
   "execution_count": 3,
   "metadata": {},
   "outputs": [
    {
     "name": "stdout",
     "output_type": "stream",
     "text": [
      "z = 2.1479619435539523\n",
      "z-alpha = 1.959963984540054\n",
      "Nilai z lebih besar dari z-alpha/2 sehingga nilai uji terletak di daerah kritis.\n",
      "Keputusan dari uji ini adalah tolak H0.\n",
      "\n",
      "p = 0.031716778818727434\n",
      "Nilai p lebih kecil dari tingkat signifikansi yang diinginkan\n",
      "Keputusan dari uji ini adalah tolak H0.\n"
     ]
    }
   ],
   "source": [
    "df_residual_sugar = df[\"residual sugar\"]\n",
    "\n",
    "# Significance Level\n",
    "alpha = 0.05\n",
    "\n",
    "# z value and p value\n",
    "z_val_residual_sugar, p_val_residual_sugar = ztest(df_residual_sugar, value = 2.50)\n",
    "\n",
    "print(\"z =\", z_val_residual_sugar)\n",
    "\n",
    "# z-alpha value\n",
    "z_alpha_val_residual_sugar = s.norm.ppf(1 - (alpha/2))\n",
    "print(\"z-alpha =\", z_alpha_val_residual_sugar)\n",
    "\n",
    "# Pengambilan Keputusan\n",
    "if (z_val_residual_sugar > z_alpha_val_residual_sugar):\n",
    "    print(\"Nilai z lebih besar dari z-alpha/2 sehingga nilai uji terletak di daerah kritis.\")\n",
    "    print(\"Keputusan dari uji ini adalah tolak H0.\\n\")\n",
    "elif (z_val_residual_sugar < z_alpha_val_residual_sugar*(-1)):\n",
    "    print(\"Nilai z lebih kecil dari minus z-alpha/2 sehingga nilai uji terletak di daerah kritis.\")\n",
    "    print(\"Keputusan dari uji ini adalah tolak H0.\\n\")\n",
    "else:\n",
    "    print(\"Nilai z berada diantara dari minus z-alpha/2 dan z-alpha/2 sehingga nilai uji tidak terletak di daerah kritis.\")\n",
    "    print(\"Keputusan dari uji ini adalah terima H0.\\n\")\n",
    "\n",
    "print(\"p =\", p_val_residual_sugar)\n",
    "\n",
    "# Pengambilan Keputusan\n",
    "if (p_val_residual_sugar < alpha):\n",
    "    print(\"Nilai p lebih kecil dari tingkat signifikansi yang diinginkan\")\n",
    "    print(\"Keputusan dari uji ini adalah tolak H0.\")\n",
    "else:\n",
    "    print(\"Nilai p tidak lebih kecil dari tingkat signifikansi yang diinginkan\")\n",
    "    print(\"Keputusan dari uji ini adalah terima H0.\")"
   ]
  },
  {
   "attachments": {},
   "cell_type": "markdown",
   "metadata": {},
   "source": [
    "Kesimpulan: \n",
    "\n",
    "Nilai rata-rata Residual Sugar tidak sama dengan 2.50."
   ]
  },
  {
   "attachments": {},
   "cell_type": "markdown",
   "metadata": {},
   "source": [
    "## Q3: Nilai rata-rata 150 baris pertama kolom sulphates bukan 0.65?\n",
    "Langkah-langkah:\n",
    "1. $\\mathrm{H_0}: \\mu$ = 0.65\n",
    "2. $\\mathrm{H_1}: \\mu$ $\\neq$ 0.65\n",
    "3. Significance Level : $\\alpha$ = 0.05\n",
    "4. Uji Statistik: Two-Tailed Test\n",
    "\n",
    "    Daerah Kritis: z > $z_{\\alpha/2}$ atau z < -$z_{\\alpha/2}$\n",
    "\n",
    "    Perhitungannya juga ada di kode di bawah ini.\n",
    "5. Test Statistik: $$z = \\frac{\\bar{x} - \\mu_0}{\\sigma/\\sqrt{n}}$$ \n",
    "\n",
    "    Perhitungan z-value dan p-value ada pada kode di bawah ini.\n",
    "6. Tolak $\\mathrm{H_0}$ jika $(z > z_{\\alpha/2}$ atau $z < -z_{\\alpha/2})$ atau tolak $\\mathrm{H_0}$ jika p-value lebih kecil dibandingkan tingkat signifikansi $\\alpha$ yang diinginkan. Jika di luar kondisi tersebut, terima $\\mathrm{H_0}$.\n",
    "\n",
    "    Pengambilan keputusan tersebut ada pada kode di bawah ini."
   ]
  },
  {
   "cell_type": "code",
   "execution_count": 4,
   "metadata": {},
   "outputs": [
    {
     "name": "stdout",
     "output_type": "stream",
     "text": [
      "z = -4.964843393315918\n",
      "z-alpha = 1.959963984540054\n",
      "Nilai z lebih kecil dari minus z-alpha/2 sehingga nilai uji terletak di daerah kritis.\n",
      "Keputusan dari uji ini adalah tolak H0.\n",
      "\n",
      "p = 6.875652918327357e-07\n",
      "Nilai p lebih kecil dari tingkat signifikansi yang diinginkan\n",
      "Keputusan dari uji ini adalah tolak H0.\n"
     ]
    }
   ],
   "source": [
    "df_sulphates = df[\"sulphates\"].head(150)\n",
    "\n",
    "# Significance Level\n",
    "alpha = 0.05\n",
    "\n",
    "# z value and p value\n",
    "z_val_sulphates, p_val_sulphates = ztest(df_sulphates, value = 0.65)\n",
    "\n",
    "print(\"z =\", z_val_sulphates)\n",
    "\n",
    "# z-alpha value\n",
    "z_alpha_sulphates = s.norm.ppf(1 - (alpha/2))\n",
    "print(\"z-alpha =\", z_alpha_sulphates)\n",
    "\n",
    "# Pengambilan Keputusan\n",
    "if (z_val_sulphates > z_alpha_sulphates):\n",
    "    print(\"Nilai z lebih besar dari z-alpha/2 sehingga nilai uji terletak di daerah kritis.\")\n",
    "    print(\"Keputusan dari uji ini adalah tolak H0.\\n\")\n",
    "elif (z_val_sulphates < z_alpha_sulphates*(-1)):\n",
    "    print(\"Nilai z lebih kecil dari minus z-alpha/2 sehingga nilai uji terletak di daerah kritis.\")\n",
    "    print(\"Keputusan dari uji ini adalah tolak H0.\\n\")\n",
    "else:\n",
    "    print(\"Nilai z berada diantara dari minus z-alpha/2 dan z-alpha/2 sehingga nilai uji tidak terletak di daerah kritis.\")\n",
    "    print(\"Keputusan dari uji ini adalah terima H0.\\n\")\n",
    "\n",
    "print(\"p =\", p_val_sulphates)\n",
    "\n",
    "# Pengambilan Keputusan\n",
    "if (p_val_sulphates < alpha):\n",
    "    print(\"Nilai p lebih kecil dari tingkat signifikansi yang diinginkan\")\n",
    "    print(\"Keputusan dari uji ini adalah tolak H0.\")\n",
    "else:\n",
    "    print(\"Nilai p tidak lebih kecil dari tingkat signifikansi yang diinginkan\")\n",
    "    print(\"Keputusan dari uji ini adalah terima H0.\")\n"
   ]
  },
  {
   "attachments": {},
   "cell_type": "markdown",
   "metadata": {},
   "source": [
    "Kesimpulan: \n",
    "\n",
    "Nilai rata-rata 150 baris pertama kolom sulphates bukan 0.65."
   ]
  },
  {
   "attachments": {},
   "cell_type": "markdown",
   "metadata": {},
   "source": [
    "## Q4: Nilai rata-rata total sulfur dioxide di bawah 35?\n",
    "Langkah-langkah:\n",
    "1. $\\mathrm{H_0}: \\mu$ = 35\n",
    "2. $\\mathrm{H_1}: \\mu$ < 35\n",
    "3. Significance Level : $\\alpha$ = 0.05\n",
    "4. Uji Statistik: One-Tailed Test\n",
    "\n",
    "    Daerah Kritis: 1 - $\\alpha$ = 0.95 dan P(z > -1.645) = 0.95 sehingga daerah kritisnya adalah z < -1.645.  \n",
    "\n",
    "    Perhitungannya juga ada di kode di bawah ini.\n",
    "5. Test Statistik: $$z = \\frac{\\bar{x} - \\mu_0}{\\sigma/\\sqrt{n}}$$\n",
    "\n",
    "    Perhitungan z-value dan p-value ada pada kode di bawah ini.\n",
    "6. Tolak $\\mathrm{H_0}$ jika nilai uji terletak di daerah kritis atau dengan dengan tes signifikan $(z < -z_\\alpha)$ atau tolak $\\mathrm{H_0}$ jika p-value lebih kecil dibandingkan tingkat signifikansi $\\alpha$ yang diinginkan. Jika di luar kondisi tersebut, terima $\\mathrm{H_0}$.\n",
    "    \n",
    "    Pengambilan keputusan tersebut ada pada kode di bawah ini."
   ]
  },
  {
   "cell_type": "code",
   "execution_count": 5,
   "metadata": {},
   "outputs": [
    {
     "name": "stdout",
     "output_type": "stream",
     "text": [
      "z = 16.786387372296744\n",
      "z-alpha = -1.6448536269514722\n",
      "Nilai z tidak lebih kecil dari minus z-alpha sehingga nilai uji tidak terletak di daerah kritis.\n",
      "Keputusan dari uji ini adalah terima H0.\n",
      "\n",
      "p = 1.0\n",
      "Nilai p tidak lebih kecil dari tingkat signifikansi yang diinginkan\n",
      "Keputusan dari uji ini adalah terima H0\n"
     ]
    }
   ],
   "source": [
    "df_total_sulfur_dioxide_1 = df[\"total sulfur dioxide\"]\n",
    "\n",
    "# Significance Level\n",
    "alpha = 0.05\n",
    "\n",
    "# z value and p value\n",
    "z_val_total_sulfur_dioxide_1, temp = ztest(df_total_sulfur_dioxide_1, value = 35)\n",
    "print(\"z =\", z_val_total_sulfur_dioxide_1)\n",
    "\n",
    "# z-alpha value\n",
    "z_alpha_total_sulfur_dioxide_1 = -s.norm.ppf(1 - alpha)\n",
    "print(\"z-alpha =\", z_alpha_total_sulfur_dioxide_1)\n",
    "\n",
    "# Pengambilan Keputusan\n",
    "if (z_val_total_sulfur_dioxide_1 < z_alpha_total_sulfur_dioxide_1):\n",
    "    print(\"Nilai z lebih kecil dari minus z-alpha sehingga nilai uji terletak di daerah kritis.\")\n",
    "    print(\"Keputusan dari uji ini adalah tolak H0.\\n\")\n",
    "else:\n",
    "    print(\"Nilai z tidak lebih kecil dari minus z-alpha sehingga nilai uji tidak terletak di daerah kritis.\")\n",
    "    print(\"Keputusan dari uji ini adalah terima H0.\\n\")\n",
    "\n",
    "# p value\n",
    "p_val_total_sulfur_dioxide_1 = s.norm.cdf(z_val_total_sulfur_dioxide_1)\n",
    "print(\"p =\", p_val_total_sulfur_dioxide_1)\n",
    "\n",
    "# Pengambilan Keputusan\n",
    "if (p_val_total_sulfur_dioxide_1 < alpha):\n",
    "    print(\"Nilai p lebih kecil dari tingkat signifikansi yang diinginkan\")\n",
    "    print(\"Keputusan dari uji ini adalah tolak H0\")\n",
    "else:\n",
    "    print(\"Nilai p tidak lebih kecil dari tingkat signifikansi yang diinginkan\")\n",
    "    print(\"Keputusan dari uji ini adalah terima H0\")"
   ]
  },
  {
   "attachments": {},
   "cell_type": "markdown",
   "metadata": {},
   "source": [
    "Kesimpulan: \n",
    "\n",
    "Nilai rata-rata total sulfur dioxide di bawah 35."
   ]
  },
  {
   "attachments": {},
   "cell_type": "markdown",
   "metadata": {},
   "source": [
    "## Q5: Proporsi nilai total Sulfat Dioxide yang lebih dari 40, adalah tidak sama dengan 50% ?\n",
    "Langkah-langkah:\n",
    "1. $\\mathrm{H_0}$: Proporsi nilai total Sulfat Dioxide yang lebih dari 40 sama dengan 50% (p = 0.5)\n",
    "2. $\\mathrm{H_1}$: Proporsi nilai total Sulfat Dioxide yang lebih dari 40 tidak sama dengan 50% (p $\\ne$ 0.5)\n",
    "3. Significance Level : $\\alpha$ = 0.05\n",
    "4. Uji Statistik: Two-Tailed Test\n",
    "\n",
    "    Daerah Kritis: 1 - $\\alpha$ = 0.95 dan P(z < 1.645) = 0.95 sehingga daerah kritisnya adalah z > 1.645.  \n",
    "\n",
    "    Perhitungannya juga ada di kode di bawah ini.\n",
    "5. Test Statistik: $$z = \\frac{\\hat{p} - p_0}{\\sqrt{p_0q_0/n}}$$\n",
    "\n",
    "    Perhitungan z-value dan p-value ada pada kode di bawah ini.\n",
    "6. Tolak $\\mathrm{H_0}$ jika $(z > z_{\\alpha/2}$ atau $z < -z_{\\alpha/2})$ atau tolak $\\mathrm{H_0}$ jika p-value lebih kecil dibandingkan tingkat signifikansi $\\alpha$ yang diinginkan. Jika di luar kondisi tersebut, terima $\\mathrm{H_0}$.\n",
    "    \n",
    "    Pengambilan keputusan tersebut ada pada kode di bawah ini."
   ]
  },
  {
   "cell_type": "code",
   "execution_count": 6,
   "metadata": {},
   "outputs": [
    {
     "name": "stdout",
     "output_type": "stream",
     "text": [
      "z = 0.7589466384404118\n",
      "z-alpha = 1.959963984540054\n",
      "Nilai z berada diantara dari minus z-alpha/2 dan z-alpha/2 sehingga nilai uji tidak terletak di daerah kritis.\n",
      "Keputusan dari uji ini adalah terima H0.\n",
      "\n",
      "p = 0.4478844782641115\n",
      "Nilai p tidak lebih kecil dari tingkat signifikansi yang diinginkan\n",
      "Keputusan dari uji ini adalah terima H0.\n"
     ]
    }
   ],
   "source": [
    "df_total_sulfur_dioxide_2 = df[df[\"total sulfur dioxide\"] > 40]\n",
    "\n",
    "# Significance Level\n",
    "alpha = 0.05\n",
    "\n",
    "# z value and p value\n",
    "z_val_total_sulfur_dioxide_2, p_val_total_sulfur_dioxide_2 = proportions_ztest(len(df_total_sulfur_dioxide_2),len(df), value = 0.5, prop_var = 0.5)\n",
    "\n",
    "print(\"z =\", z_val_total_sulfur_dioxide_2)\n",
    "\n",
    "# z-alpha value\n",
    "z_alpha_total_sulfur_dioxide_2 = s.norm.ppf(1 - (alpha/2))\n",
    "print(\"z-alpha =\", z_alpha_total_sulfur_dioxide_2)\n",
    "\n",
    "# Pengambilan Keputusan\n",
    "if (z_val_total_sulfur_dioxide_2 > z_alpha_total_sulfur_dioxide_2):\n",
    "    print(\"Nilai z lebih besar dari z-alpha/2 sehingga nilai uji terletak di daerah kritis.\")\n",
    "    print(\"Keputusan dari uji ini adalah tolak H0.\\n\")\n",
    "elif (z_val_total_sulfur_dioxide_2 < z_alpha_total_sulfur_dioxide_2*(-1)):\n",
    "    print(\"Nilai z lebih kecil dari minus z-alpha/2 sehingga nilai uji terletak di daerah kritis.\")\n",
    "    print(\"Keputusan dari uji ini adalah tolak H0.\\n\")\n",
    "else:\n",
    "    print(\"Nilai z berada diantara dari minus z-alpha/2 dan z-alpha/2 sehingga nilai uji tidak terletak di daerah kritis.\")\n",
    "    print(\"Keputusan dari uji ini adalah terima H0.\\n\")\n",
    "\n",
    "print(\"p =\", p_val_total_sulfur_dioxide_2)\n",
    "\n",
    "# Pengambilan Keputusan\n",
    "if (p_val_total_sulfur_dioxide_2 < alpha):\n",
    "    print(\"Nilai p lebih kecil dari tingkat signifikansi yang diinginkan\")\n",
    "    print(\"Keputusan dari uji ini adalah tolak H0.\")\n",
    "else:\n",
    "    print(\"Nilai p tidak lebih kecil dari tingkat signifikansi yang diinginkan\")\n",
    "    print(\"Keputusan dari uji ini adalah terima H0.\")\n"
   ]
  },
  {
   "attachments": {},
   "cell_type": "markdown",
   "metadata": {},
   "source": [
    "Kesimpulan: \n",
    "\n",
    "Proporsi nilai total Sulfat Dioxide yang lebih dari 40, adalah tidak berbeda dengan 50%."
   ]
  }
 ],
 "metadata": {
  "kernelspec": {
   "display_name": "base",
   "language": "python",
   "name": "python3"
  },
  "language_info": {
   "codemirror_mode": {
    "name": "ipython",
    "version": 3
   },
   "file_extension": ".py",
   "mimetype": "text/x-python",
   "name": "python",
   "nbconvert_exporter": "python",
   "pygments_lexer": "ipython3",
   "version": "3.10.1"
  },
  "orig_nbformat": 4
 },
 "nbformat": 4,
 "nbformat_minor": 2
}
