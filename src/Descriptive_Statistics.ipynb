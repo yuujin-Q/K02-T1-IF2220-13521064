{
 "cells": [
  {
   "cell_type": "code",
   "execution_count": 1,
   "metadata": {},
   "outputs": [],
   "source": [
    "# Import Library Pandas\n",
    "import pandas as pd\n",
    "\n",
    "# Read csv file\n",
    "df = pd.read_csv(\"../data/anggur.csv\")\n",
    "\n",
    "# Print descriptive statistics\n",
    "def print_descriptive_statistics(dataframe):\n",
    "    # Mean\n",
    "    print(\"Mean:\", dataframe.mean())\n",
    "    print(\"-----------------------------------------\")\n",
    "\n",
    "    # Median\n",
    "    print(\"Median:\", dataframe.median())\n",
    "    print(\"-----------------------------------------\")\n",
    "\n",
    "    # Modus\n",
    "    print(\"Modus:\") \n",
    "    all_modes = dataframe.mode().values.tolist()\n",
    "    if (len(all_modes) == dataframe.count()):\n",
    "        print(\"Ada\", dataframe.count(), \"modus pada kolom ini. Jumlah tersebut sama dengan jumlah nilai pada kolom ini.\")\n",
    "        print(\"Hal ini menandakan kolom ini memiliki nilai-nilai yang berbeda satu sama lain.\")\n",
    "    else:\n",
    "        for mode in all_modes:\n",
    "            print(mode)\n",
    "    print(\"-----------------------------------------\")\n",
    "\n",
    "    # Standar Deviasi\n",
    "    print(\"Standar Deviasi:\", dataframe.std())\n",
    "    print(\"-----------------------------------------\")\n",
    "\n",
    "    # Variansi\n",
    "    print(\"Variansi:\", dataframe.var())\n",
    "    print(\"-----------------------------------------\")\n",
    "\n",
    "    # Range\n",
    "    print(\"Range:\", dataframe.max() - dataframe.min())\n",
    "    print(\"-----------------------------------------\")\n",
    "\n",
    "    # Minimum\n",
    "    print(\"Nilai Minimum:\", dataframe.min())\n",
    "    print(\"-----------------------------------------\")\n",
    "\n",
    "    # Maximum\n",
    "    print(\"Nilai Maksimum:\", dataframe.max())\n",
    "    print(\"-----------------------------------------\")\n",
    "\n",
    "    # Kuartil\n",
    "    print(\"Kuartil Bawah:\", dataframe.quantile(0.25))\n",
    "    print(\"Kuartil Tengah:\", dataframe.quantile(0.50))\n",
    "    print(\"Kuartil Atas:\", dataframe.quantile(0.75))\n",
    "    print(\"-----------------------------------------\")\n",
    "\n",
    "    # IQR\n",
    "    print(\"IQR:\", dataframe.quantile(0.75) - dataframe.quantile(0.25))\n",
    "    print(\"-----------------------------------------\")\n",
    "\n",
    "    # Skewness\n",
    "    print(\"Skewness:\", dataframe.skew())\n",
    "    print(\"-----------------------------------------\")\n",
    "\n",
    "    # Kurtosis\n",
    "    print(\"Kurtosis:\", dataframe.kurtosis())\n",
    "    print(\"=========================================\")"
   ]
  },
  {
   "attachments": {},
   "cell_type": "markdown",
   "metadata": {},
   "source": [
    "DESKRIPSI STATISTIKA\n"
   ]
  },
  {
   "attachments": {},
   "cell_type": "markdown",
   "metadata": {},
   "source": [
    "1.1 Kolom Fixed Acidity"
   ]
  },
  {
   "cell_type": "code",
   "execution_count": 2,
   "metadata": {},
   "outputs": [
    {
     "name": "stdout",
     "output_type": "stream",
     "text": [
      "====================o====================\n",
      "Deskripsi Statistika Kolom Fixed Acidity\n",
      "====================o====================\n",
      "Mean: 7.152530000000006\n",
      "-----------------------------------------\n",
      "Median: 7.15\n",
      "-----------------------------------------\n",
      "Modus:\n",
      "6.54\n",
      "-----------------------------------------\n",
      "Standar Deviasi: 1.2015975764938276\n",
      "-----------------------------------------\n",
      "Variansi: 1.4438367358358397\n",
      "-----------------------------------------\n",
      "Range: 8.17\n",
      "-----------------------------------------\n",
      "Nilai Minimum: 3.32\n",
      "-----------------------------------------\n",
      "Nilai Maksimum: 11.49\n",
      "-----------------------------------------\n",
      "Kuartil Bawah: 6.3774999999999995\n",
      "Kuartil Tengah: 7.15\n",
      "Kuartil Atas: 8.0\n",
      "-----------------------------------------\n",
      "IQR: 1.6225000000000005\n",
      "-----------------------------------------\n",
      "Skewness: -0.028878575532660055\n",
      "-----------------------------------------\n",
      "Kurtosis: -0.019292120932933532\n",
      "=========================================\n"
     ]
    }
   ],
   "source": [
    "# Fixed Acidity\n",
    "print(\"====================o====================\")\n",
    "print(\"Deskripsi Statistika Kolom Fixed Acidity\")\n",
    "print(\"====================o====================\")\n",
    "\n",
    "df_fixed_acidity = df[\"fixed acidity\"]\n",
    "\n",
    "# Print Descriptive Statistics\n",
    "print_descriptive_statistics(df_fixed_acidity)"
   ]
  },
  {
   "attachments": {},
   "cell_type": "markdown",
   "metadata": {},
   "source": [
    "1.2 Kolom Volatile Acidity"
   ]
  },
  {
   "cell_type": "code",
   "execution_count": 3,
   "metadata": {},
   "outputs": [
    {
     "name": "stdout",
     "output_type": "stream",
     "text": [
      "====================o====================\n",
      "Deskripsi Statistika Kolom Volatile Acidity\n",
      "====================o====================\n",
      "Mean: 0.5208384999999999\n",
      "-----------------------------------------\n",
      "Median: 0.52485\n",
      "-----------------------------------------\n",
      "Modus:\n",
      "0.5546\n",
      "-----------------------------------------\n",
      "Standar Deviasi: 0.09584827405534954\n",
      "-----------------------------------------\n",
      "Variansi: 0.009186891639389393\n",
      "-----------------------------------------\n",
      "Range: 0.6652\n",
      "-----------------------------------------\n",
      "Nilai Minimum: 0.1399\n",
      "-----------------------------------------\n",
      "Nilai Maksimum: 0.8051\n",
      "-----------------------------------------\n",
      "Kuartil Bawah: 0.4561\n",
      "Kuartil Tengah: 0.52485\n",
      "Kuartil Atas: 0.585375\n",
      "-----------------------------------------\n",
      "IQR: 0.12927499999999997\n",
      "-----------------------------------------\n",
      "Skewness: -0.1976986986092083\n",
      "-----------------------------------------\n",
      "Kurtosis: 0.16185290336961788\n",
      "=========================================\n"
     ]
    }
   ],
   "source": [
    "# Volatile Acidity\n",
    "print(\"====================o====================\")\n",
    "print(\"Deskripsi Statistika Kolom Volatile Acidity\")\n",
    "print(\"====================o====================\")\n",
    "\n",
    "df_volatile_acidity = df[\"volatile acidity\"]\n",
    "\n",
    "# Print Descriptive Statistics\n",
    "print_descriptive_statistics(df_volatile_acidity)"
   ]
  },
  {
   "attachments": {},
   "cell_type": "markdown",
   "metadata": {},
   "source": [
    "1.3 Kolom Citric Acid"
   ]
  },
  {
   "cell_type": "code",
   "execution_count": 4,
   "metadata": {},
   "outputs": [
    {
     "name": "stdout",
     "output_type": "stream",
     "text": [
      "====================o====================\n",
      "Deskripsi Statistika Kolom Citric Acid\n",
      "====================o====================\n",
      "Mean: 0.27051699999999995\n",
      "-----------------------------------------\n",
      "Median: 0.2722\n",
      "-----------------------------------------\n",
      "Modus:\n",
      "0.3019\n",
      "-----------------------------------------\n",
      "Standar Deviasi: 0.04909837147076352\n",
      "-----------------------------------------\n",
      "Variansi: 0.0024106500810810853\n",
      "-----------------------------------------\n",
      "Range: 0.29290000000000005\n",
      "-----------------------------------------\n",
      "Nilai Minimum: 0.1167\n",
      "-----------------------------------------\n",
      "Nilai Maksimum: 0.4096\n",
      "-----------------------------------------\n",
      "Kuartil Bawah: 0.2378\n",
      "Kuartil Tengah: 0.2722\n",
      "Kuartil Atas: 0.302325\n",
      "-----------------------------------------\n",
      "IQR: 0.064525\n",
      "-----------------------------------------\n",
      "Skewness: -0.045576058685017296\n",
      "-----------------------------------------\n",
      "Kurtosis: -0.1046792495951605\n",
      "=========================================\n"
     ]
    }
   ],
   "source": [
    "# Citric Acid\n",
    "print(\"====================o====================\")\n",
    "print(\"Deskripsi Statistika Kolom Citric Acid\")\n",
    "print(\"====================o====================\")\n",
    "\n",
    "df_citric_acid = df[\"citric acid\"]\n",
    "\n",
    "# Print Descriptive Statistics\n",
    "print_descriptive_statistics(df_citric_acid)"
   ]
  },
  {
   "attachments": {},
   "cell_type": "markdown",
   "metadata": {},
   "source": [
    "1.4 Kolom Residual Sugar"
   ]
  },
  {
   "cell_type": "code",
   "execution_count": 5,
   "metadata": {},
   "outputs": [
    {
     "name": "stdout",
     "output_type": "stream",
     "text": [
      "====================o====================\n",
      "Deskripsi Statistika Kolom Residual Sugar\n",
      "====================o====================\n",
      "Mean: 2.5671036825067572\n",
      "-----------------------------------------\n",
      "Median: 2.519430272865794\n",
      "-----------------------------------------\n",
      "Modus:\n",
      "Ada 1000 modus pada kolom ini. Jumlah tersebut sama dengan jumlah nilai pada kolom ini.\n",
      "Hal ini menandakan kolom ini memiliki nilai-nilai yang berbeda satu sama lain.\n",
      "-----------------------------------------\n",
      "Standar Deviasi: 0.9879154365046932\n",
      "-----------------------------------------\n",
      "Variansi: 0.9759769096842584\n",
      "-----------------------------------------\n",
      "Range: 5.5182004097078625\n",
      "-----------------------------------------\n",
      "Nilai Minimum: 0.032554525015195\n",
      "-----------------------------------------\n",
      "Nilai Maksimum: 5.550754934723058\n",
      "-----------------------------------------\n",
      "Kuartil Bawah: 1.896329943488683\n",
      "Kuartil Tengah: 2.519430272865794\n",
      "Kuartil Atas: 3.220873482829786\n",
      "-----------------------------------------\n",
      "IQR: 1.3245435393411031\n",
      "-----------------------------------------\n",
      "Skewness: 0.13263808618992312\n",
      "-----------------------------------------\n",
      "Kurtosis: -0.04298003436476261\n",
      "=========================================\n"
     ]
    }
   ],
   "source": [
    "# Residual Sugar\n",
    "print(\"====================o====================\")\n",
    "print(\"Deskripsi Statistika Kolom Residual Sugar\")\n",
    "print(\"====================o====================\")\n",
    "\n",
    "df_residual_sugar = df[\"residual sugar\"]\n",
    "\n",
    "# Print Descriptive Statistics\n",
    "print_descriptive_statistics(df_residual_sugar)"
   ]
  },
  {
   "attachments": {},
   "cell_type": "markdown",
   "metadata": {},
   "source": [
    "1.5 Kolom Chlorides"
   ]
  },
  {
   "cell_type": "code",
   "execution_count": 6,
   "metadata": {},
   "outputs": [
    {
     "name": "stdout",
     "output_type": "stream",
     "text": [
      "====================o====================\n",
      "Deskripsi Statistika Kolom Chlorides\n",
      "====================o====================\n",
      "Mean: 0.08119515250784973\n",
      "-----------------------------------------\n",
      "Median: 0.0821669021645236\n",
      "-----------------------------------------\n",
      "Modus:\n",
      "Ada 1000 modus pada kolom ini. Jumlah tersebut sama dengan jumlah nilai pada kolom ini.\n",
      "Hal ini menandakan kolom ini memiliki nilai-nilai yang berbeda satu sama lain.\n",
      "-----------------------------------------\n",
      "Standar Deviasi: 0.020110647243996742\n",
      "-----------------------------------------\n",
      "Variansi: 0.0004044381325724738\n",
      "-----------------------------------------\n",
      "Range: 0.1256351302653488\n",
      "-----------------------------------------\n",
      "Nilai Minimum: 0.0151224391657095\n",
      "-----------------------------------------\n",
      "Nilai Maksimum: 0.1407575694310583\n",
      "-----------------------------------------\n",
      "Kuartil Bawah: 0.06657363190977357\n",
      "Kuartil Tengah: 0.0821669021645236\n",
      "Kuartil Atas: 0.09531150148556258\n",
      "-----------------------------------------\n",
      "IQR: 0.028737869575789013\n",
      "-----------------------------------------\n",
      "Skewness: -0.05131929742072573\n",
      "-----------------------------------------\n",
      "Kurtosis: -0.2465081359240382\n",
      "=========================================\n"
     ]
    }
   ],
   "source": [
    "# Chlorides\n",
    "print(\"====================o====================\")\n",
    "print(\"Deskripsi Statistika Kolom Chlorides\")\n",
    "print(\"====================o====================\")\n",
    "\n",
    "df_chlorides = df[\"chlorides\"]\n",
    "\n",
    "# Print Descriptive Statistics\n",
    "print_descriptive_statistics(df_chlorides)"
   ]
  },
  {
   "attachments": {},
   "cell_type": "markdown",
   "metadata": {},
   "source": [
    "1.6 Kolom Free Sulfur Dioxide"
   ]
  },
  {
   "cell_type": "code",
   "execution_count": 7,
   "metadata": {},
   "outputs": [
    {
     "name": "stdout",
     "output_type": "stream",
     "text": [
      "====================o====================\n",
      "Deskripsi Statistika Kolom Free Sulfur Dioxide\n",
      "====================o====================\n",
      "Mean: 14.907679251029792\n",
      "-----------------------------------------\n",
      "Median: 14.860346236568924\n",
      "-----------------------------------------\n",
      "Modus:\n",
      "Ada 1000 modus pada kolom ini. Jumlah tersebut sama dengan jumlah nilai pada kolom ini.\n",
      "Hal ini menandakan kolom ini memiliki nilai-nilai yang berbeda satu sama lain.\n",
      "-----------------------------------------\n",
      "Standar Deviasi: 4.888099705756564\n",
      "-----------------------------------------\n",
      "Variansi: 23.89351873341741\n",
      "-----------------------------------------\n",
      "Range: 27.26784690109891\n",
      "-----------------------------------------\n",
      "Nilai Minimum: 0.194678523326937\n",
      "-----------------------------------------\n",
      "Nilai Maksimum: 27.462525424425845\n",
      "-----------------------------------------\n",
      "Kuartil Bawah: 11.426716949457617\n",
      "Kuartil Tengah: 14.860346236568924\n",
      "Kuartil Atas: 18.313097915395005\n",
      "-----------------------------------------\n",
      "IQR: 6.886380965937388\n",
      "-----------------------------------------\n",
      "Skewness: 0.007130415991143398\n",
      "-----------------------------------------\n",
      "Kurtosis: -0.36496364342685306\n",
      "=========================================\n"
     ]
    }
   ],
   "source": [
    "# Free Sulfur Dioxide\n",
    "print(\"====================o====================\")\n",
    "print(\"Deskripsi Statistika Kolom Free Sulfur Dioxide\")\n",
    "print(\"====================o====================\")\n",
    "\n",
    "df_free_sulfur_dioxide = df[\"free sulfur dioxide\"]\n",
    "\n",
    "# Print Descriptive Statistics\n",
    "print_descriptive_statistics(df_free_sulfur_dioxide)"
   ]
  },
  {
   "attachments": {},
   "cell_type": "markdown",
   "metadata": {},
   "source": [
    "1.7 Kolom Total Sulfur Dioxide"
   ]
  },
  {
   "cell_type": "code",
   "execution_count": 8,
   "metadata": {},
   "outputs": [
    {
     "name": "stdout",
     "output_type": "stream",
     "text": [
      "====================o====================\n",
      "Deskripsi Statistika Kolom Total Sulfur Dioxide\n",
      "====================o====================\n",
      "Mean: 40.290150000000075\n",
      "-----------------------------------------\n",
      "Median: 40.19\n",
      "-----------------------------------------\n",
      "Modus:\n",
      "35.2\n",
      "37.25\n",
      "39.64\n",
      "40.61\n",
      "41.05\n",
      "41.59\n",
      "44.51\n",
      "-----------------------------------------\n",
      "Standar Deviasi: 9.965767376218295\n",
      "-----------------------------------------\n",
      "Variansi: 99.3165193968969\n",
      "-----------------------------------------\n",
      "Range: 66.80999999999999\n",
      "-----------------------------------------\n",
      "Nilai Minimum: 3.15\n",
      "-----------------------------------------\n",
      "Nilai Maksimum: 69.96\n",
      "-----------------------------------------\n",
      "Kuartil Bawah: 33.785\n",
      "Kuartil Tengah: 40.19\n",
      "Kuartil Atas: 47.0225\n",
      "-----------------------------------------\n",
      "IQR: 13.237500000000004\n",
      "-----------------------------------------\n",
      "Skewness: -0.024060026812269975\n",
      "-----------------------------------------\n",
      "Kurtosis: 0.06394978916172311\n",
      "=========================================\n"
     ]
    }
   ],
   "source": [
    "# Total Sulfur Dioxide\n",
    "print(\"====================o====================\")\n",
    "print(\"Deskripsi Statistika Kolom Total Sulfur Dioxide\")\n",
    "print(\"====================o====================\")\n",
    "\n",
    "df_total_sulfur_dioxide = df[\"total sulfur dioxide\"]\n",
    "\n",
    "# Print Descriptive Statistics\n",
    "print_descriptive_statistics(df_total_sulfur_dioxide)"
   ]
  },
  {
   "attachments": {},
   "cell_type": "markdown",
   "metadata": {},
   "source": [
    "1.8 Kolom Density"
   ]
  },
  {
   "cell_type": "code",
   "execution_count": 9,
   "metadata": {},
   "outputs": [
    {
     "name": "stdout",
     "output_type": "stream",
     "text": [
      "====================o====================\n",
      "Deskripsi Statistika Kolom Density\n",
      "====================o====================\n",
      "Mean: 0.9959253000000002\n",
      "-----------------------------------------\n",
      "Median: 0.996\n",
      "-----------------------------------------\n",
      "Modus:\n",
      "0.9959\n",
      "0.9961\n",
      "0.9965\n",
      "0.997\n",
      "-----------------------------------------\n",
      "Standar Deviasi: 0.0020201809426487133\n",
      "-----------------------------------------\n",
      "Variansi: 4.081131041041044e-06\n",
      "-----------------------------------------\n",
      "Range: 0.013799999999999923\n",
      "-----------------------------------------\n",
      "Nilai Minimum: 0.9888\n",
      "-----------------------------------------\n",
      "Nilai Maksimum: 1.0026\n",
      "-----------------------------------------\n",
      "Kuartil Bawah: 0.9946\n",
      "Kuartil Tengah: 0.996\n",
      "Kuartil Atas: 0.9972\n",
      "-----------------------------------------\n",
      "IQR: 0.0025999999999999357\n",
      "-----------------------------------------\n",
      "Skewness: -0.07688278915513917\n",
      "-----------------------------------------\n",
      "Kurtosis: 0.01636562128503849\n",
      "=========================================\n"
     ]
    }
   ],
   "source": [
    "# Density\n",
    "print(\"====================o====================\")\n",
    "print(\"Deskripsi Statistika Kolom Density\")\n",
    "print(\"====================o====================\")\n",
    "\n",
    "df_density = df[\"density\"]\n",
    "\n",
    "# Print Descriptive Statistics\n",
    "print_descriptive_statistics(df_density)"
   ]
  },
  {
   "attachments": {},
   "cell_type": "markdown",
   "metadata": {},
   "source": [
    "1.9 Kolom pH"
   ]
  },
  {
   "cell_type": "code",
   "execution_count": 10,
   "metadata": {},
   "outputs": [
    {
     "name": "stdout",
     "output_type": "stream",
     "text": [
      "====================o====================\n",
      "Deskripsi Statistika Kolom pH\n",
      "====================o====================\n",
      "Mean: 3.303610000000003\n",
      "-----------------------------------------\n",
      "Median: 3.3\n",
      "-----------------------------------------\n",
      "Modus:\n",
      "3.34\n",
      "-----------------------------------------\n",
      "Standar Deviasi: 0.10487548220040155\n",
      "-----------------------------------------\n",
      "Variansi: 0.010998866766766742\n",
      "-----------------------------------------\n",
      "Range: 0.7399999999999998\n",
      "-----------------------------------------\n",
      "Nilai Minimum: 2.97\n",
      "-----------------------------------------\n",
      "Nilai Maksimum: 3.71\n",
      "-----------------------------------------\n",
      "Kuartil Bawah: 3.23\n",
      "Kuartil Tengah: 3.3\n",
      "Kuartil Atas: 3.37\n",
      "-----------------------------------------\n",
      "IQR: 0.14000000000000012\n",
      "-----------------------------------------\n",
      "Skewness: 0.14767259510827038\n",
      "-----------------------------------------\n",
      "Kurtosis: 0.0809095518741838\n",
      "=========================================\n"
     ]
    }
   ],
   "source": [
    "# pH\n",
    "print(\"====================o====================\")\n",
    "print(\"Deskripsi Statistika Kolom pH\")\n",
    "print(\"====================o====================\")\n",
    "\n",
    "df_pH = df[\"pH\"]\n",
    "\n",
    "# Print Descriptive Statistics\n",
    "print_descriptive_statistics(df_pH)"
   ]
  },
  {
   "attachments": {},
   "cell_type": "markdown",
   "metadata": {},
   "source": [
    "1.10 Kolom Sulphates"
   ]
  },
  {
   "cell_type": "code",
   "execution_count": 11,
   "metadata": {},
   "outputs": [
    {
     "name": "stdout",
     "output_type": "stream",
     "text": [
      "====================o====================\n",
      "Deskripsi Statistika Kolom Sulphates\n",
      "====================o====================\n",
      "Mean: 0.5983899999999999\n",
      "-----------------------------------------\n",
      "Median: 0.595\n",
      "-----------------------------------------\n",
      "Modus:\n",
      "0.59\n",
      "-----------------------------------------\n",
      "Standar Deviasi: 0.10081900799141184\n",
      "-----------------------------------------\n",
      "Variansi: 0.010164472372372365\n",
      "-----------------------------------------\n",
      "Range: 0.6699999999999999\n",
      "-----------------------------------------\n",
      "Nilai Minimum: 0.29\n",
      "-----------------------------------------\n",
      "Nilai Maksimum: 0.96\n",
      "-----------------------------------------\n",
      "Kuartil Bawah: 0.53\n",
      "Kuartil Tengah: 0.595\n",
      "Kuartil Atas: 0.67\n",
      "-----------------------------------------\n",
      "IQR: 0.14\n",
      "-----------------------------------------\n",
      "Skewness: 0.1491989008699043\n",
      "-----------------------------------------\n",
      "Kurtosis: 0.06481928180859686\n",
      "=========================================\n"
     ]
    }
   ],
   "source": [
    "# Sulphates\n",
    "print(\"====================o====================\")\n",
    "print(\"Deskripsi Statistika Kolom Sulphates\")\n",
    "print(\"====================o====================\")\n",
    "\n",
    "df_sulphates = df[\"sulphates\"]\n",
    "\n",
    "# Print Descriptive Statistics\n",
    "print_descriptive_statistics(df_sulphates)"
   ]
  },
  {
   "attachments": {},
   "cell_type": "markdown",
   "metadata": {},
   "source": [
    "1.11 Kolom Alcohol"
   ]
  },
  {
   "cell_type": "code",
   "execution_count": 12,
   "metadata": {},
   "outputs": [
    {
     "name": "stdout",
     "output_type": "stream",
     "text": [
      "====================o====================\n",
      "Deskripsi Statistika Kolom Alcohol\n",
      "====================o====================\n",
      "Mean: 10.592279999999985\n",
      "-----------------------------------------\n",
      "Median: 10.61\n",
      "-----------------------------------------\n",
      "Modus:\n",
      "9.86\n",
      "10.31\n",
      "-----------------------------------------\n",
      "Standar Deviasi: 1.5107060052287598\n",
      "-----------------------------------------\n",
      "Variansi: 2.282232634234237\n",
      "-----------------------------------------\n",
      "Range: 8.989999999999998\n",
      "-----------------------------------------\n",
      "Nilai Minimum: 6.03\n",
      "-----------------------------------------\n",
      "Nilai Maksimum: 15.02\n",
      "-----------------------------------------\n",
      "Kuartil Bawah: 9.56\n",
      "Kuartil Tengah: 10.61\n",
      "Kuartil Atas: 11.622499999999999\n",
      "-----------------------------------------\n",
      "IQR: 2.0624999999999982\n",
      "-----------------------------------------\n",
      "Skewness: -0.01899140432111647\n",
      "-----------------------------------------\n",
      "Kurtosis: -0.13173155932281988\n",
      "=========================================\n"
     ]
    }
   ],
   "source": [
    "# Alcohol\n",
    "print(\"====================o====================\")\n",
    "print(\"Deskripsi Statistika Kolom Alcohol\")\n",
    "print(\"====================o====================\")\n",
    "\n",
    "df_alcohol = df[\"alcohol\"]\n",
    "\n",
    "# Print Descriptive Statistics\n",
    "print_descriptive_statistics(df_alcohol)"
   ]
  },
  {
   "attachments": {},
   "cell_type": "markdown",
   "metadata": {},
   "source": [
    "1.12 Kolom Quality"
   ]
  },
  {
   "cell_type": "code",
   "execution_count": 13,
   "metadata": {},
   "outputs": [
    {
     "name": "stdout",
     "output_type": "stream",
     "text": [
      "====================o====================\n",
      "Deskripsi Statistika Kolom Quality\n",
      "====================o====================\n",
      "Mean: 7.958\n",
      "-----------------------------------------\n",
      "Median: 8.0\n",
      "-----------------------------------------\n",
      "Modus:\n",
      "8\n",
      "-----------------------------------------\n",
      "Standar Deviasi: 0.9028017783827452\n",
      "-----------------------------------------\n",
      "Variansi: 0.8150510510510475\n",
      "-----------------------------------------\n",
      "Range: 5\n",
      "-----------------------------------------\n",
      "Nilai Minimum: 5\n",
      "-----------------------------------------\n",
      "Nilai Maksimum: 10\n",
      "-----------------------------------------\n",
      "Kuartil Bawah: 7.0\n",
      "Kuartil Tengah: 8.0\n",
      "Kuartil Atas: 9.0\n",
      "-----------------------------------------\n",
      "IQR: 2.0\n",
      "-----------------------------------------\n",
      "Skewness: -0.08905409122491781\n",
      "-----------------------------------------\n",
      "Kurtosis: 0.10829100232871003\n",
      "=========================================\n"
     ]
    }
   ],
   "source": [
    "# Quality\n",
    "print(\"====================o====================\")\n",
    "print(\"Deskripsi Statistika Kolom Quality\")\n",
    "print(\"====================o====================\")\n",
    "\n",
    "df_quality = df[\"quality\"]\n",
    "\n",
    "# Print Descriptive Statistics\n",
    "print_descriptive_statistics(df_quality)"
   ]
  }
 ],
 "metadata": {
  "kernelspec": {
   "display_name": "base",
   "language": "python",
   "name": "python3"
  },
  "language_info": {
   "codemirror_mode": {
    "name": "ipython",
    "version": 3
   },
   "file_extension": ".py",
   "mimetype": "text/x-python",
   "name": "python",
   "nbconvert_exporter": "python",
   "pygments_lexer": "ipython3",
   "version": "3.9.7"
  },
  "orig_nbformat": 4
 },
 "nbformat": 4,
 "nbformat_minor": 2
}
